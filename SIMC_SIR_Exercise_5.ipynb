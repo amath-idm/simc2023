{
 "cells": [
  {
   "cell_type": "markdown",
   "source": [
    "# Exercise 5: Model validation\n",
    "\n",
    "Here we will use the first 5 days of data on an outbreak of a flu-like illness in a boarding school of 1000 students. We will use the first 5 days of data to fit parameters to an SIR model, then we will use these values to forecast the projected number of cases over the next 5 days."
   ],
   "metadata": {
    "collapsed": false
   }
  },
  {
   "cell_type": "code",
   "execution_count": null,
   "outputs": [],
   "source": [
    "# Load packages\n",
    "import pandas as pd\n",
    "import numpy as np\n",
    "import matplotlib.pyplot as pl\n",
    "\n",
    "# Read in the data\n",
    "flu = pd.read_csv(\"flu_cases.csv\")\n",
    "\n",
    "# How many days of observation do we have when we need to make a decision?\n",
    "n_obs = 5\n",
    "\n",
    "# What do the data look like at this point?\n",
    "pl.scatter(flu['day'][:n_obs], flu['cases'][:n_obs], label='Data')\n",
    "pl.title('Number of infected students')\n",
    "pl.xlabel('Day')\n",
    "pl.xticks(np.arange(n_obs))\n",
    "pl.show()\n",
    "\n",
    "\n",
    "# Define our parameters\n",
    "beta1 = .5\n",
    "gamma1 = 1/50\n",
    "beta2 = .6\n",
    "gamma2 = 1/10\n",
    "npts = 100\n",
    "I0 = 1\n",
    "N = 1000\n",
    "dt = 1\n",
    "\n",
    "# Make arrays where we will store the estimates\n",
    "x = np.arange(npts)\n",
    "S1 = np.zeros(npts)\n",
    "I1 = np.zeros(npts)\n",
    "R1 = np.zeros(npts)\n",
    "S2 = np.zeros(npts)\n",
    "I2 = np.zeros(npts)\n",
    "R2 = np.zeros(npts)\n",
    "\n",
    "# Initial conditions\n",
    "S1[0] = N - I0\n",
    "I1[0] = I0\n",
    "S2[0] = N - I0\n",
    "I2[0] = I0\n",
    "\n",
    "# Simulate the model over time\n",
    "for t in x[:-1]:\n",
    "\n",
    "    infections1 = beta1 * S1[t] * I1[t]/N * dt\n",
    "    recoveries1 = gamma1 * I1[t] * dt\n",
    "    infections2 = beta2 * S2[t] * I2[t]/N * dt\n",
    "    recoveries2 = gamma2 * I2[t] * dt\n",
    "\n",
    "    S1[t + 1] = S1[t] - infections1\n",
    "    I1[t + 1] = I1[t] + infections1 - recoveries1\n",
    "    R1[t + 1] = R1[t] + recoveries1\n",
    "\n",
    "    S2[t + 1] = S2[t] - infections2\n",
    "    I2[t + 1] = I2[t] + infections2 - recoveries2\n",
    "    R2[t + 1] = R2[t] + recoveries2\n",
    "\n",
    "# # Plot the model estimate of the number of infections alongside the data\n",
    "time = x * dt\n",
    "\n",
    "# Plot the model estimates of the number of infections alongside the data\n",
    "pl.plot(time[:n_obs], I1[:n_obs], label=f'beta={beta1}, gamma={gamma1}, R0={beta1/gamma1:.2f}')\n",
    "pl.plot(time[:n_obs], I2[:n_obs], label=f'beta={beta2}, gamma={gamma2}, R0={beta2/gamma2:.2f}')\n",
    "pl.scatter(time[:n_obs], flu['cases'][:n_obs], label='Data')\n",
    "pl.legend()\n",
    "pl.title('Number of infected students')\n",
    "pl.xlabel('Day')\n",
    "pl.xticks(np.arange(n_obs))\n",
    "pl.show()\n",
    "\n",
    "# Model validation step: compare how well the model performed in forecasting the next few days\n",
    "n_for = 10\n",
    "pl.plot(time[:n_for], I1[:n_for], label=f'beta={beta1}, gamma={gamma1}, R0={beta1/gamma1:.2f}')\n",
    "pl.plot(time[:n_for], I2[:n_for], label=f'beta={beta2}, gamma={gamma2}, R0={beta2/gamma2:.2f}')\n",
    "pl.scatter(time[:n_for], flu['cases'][:n_for], label='Data')\n",
    "pl.legend()\n",
    "pl.title('Number of infected students')\n",
    "pl.xlabel('Day')\n",
    "pl.xticks(np.arange(n_obs))\n",
    "pl.show()\n"
   ],
   "metadata": {
    "collapsed": false
   }
  }
 ],
 "metadata": {
  "kernelspec": {
   "display_name": "Python 3",
   "language": "python",
   "name": "python3"
  },
  "language_info": {
   "codemirror_mode": {
    "name": "ipython",
    "version": 2
   },
   "file_extension": ".py",
   "mimetype": "text/x-python",
   "name": "python",
   "nbconvert_exporter": "python",
   "pygments_lexer": "ipython2",
   "version": "2.7.6"
  }
 },
 "nbformat": 4,
 "nbformat_minor": 0
}
