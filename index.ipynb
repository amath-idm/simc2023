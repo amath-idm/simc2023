{
 "cells": [
  {
   "cell_type": "markdown",
   "id": "428af823",
   "metadata": {},
   "source": [
    "# SIMC 2023 Mathematical Modelling Worksohp\n",
    "\n",
    "This repository includes Python and R scripts for the exercises covered in the SIMC 2023 Mathematical Modelling Workshop. Each exercise is duplicated in Python (Jupyter notebooks), R, and RMarkdown.\n",
    "The course materials are available from: https://simc2023.starsim.org\n",
    "\n",
    "If you have any questions, please reach out to Daniel Citron (<Daniel.Citron@nyulangone.org>), Robyn Stuart (<robyn@starsim.org>), or Cliff Kerr (<cliff@starsim.org>)."
   ]
  }
 ],
 "metadata": {
  "kernelspec": {
   "display_name": "Python 3 (ipykernel)",
   "language": "python",
   "name": "python3"
  },
  "language_info": {
   "codemirror_mode": {
    "name": "ipython",
    "version": 3
   },
   "file_extension": ".py",
   "mimetype": "text/x-python",
   "name": "python",
   "nbconvert_exporter": "python",
   "pygments_lexer": "ipython3",
   "version": "3.9.16"
  },
  "toc": {
   "base_numbering": 1,
   "nav_menu": {},
   "number_sections": false,
   "sideBar": true,
   "skip_h1_title": false,
   "title_cell": "Table of Contents",
   "title_sidebar": "Contents",
   "toc_cell": false,
   "toc_position": {},
   "toc_section_display": true,
   "toc_window_display": true
  }
 },
 "nbformat": 4,
 "nbformat_minor": 5
}
