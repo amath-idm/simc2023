{
 "cells": [
  {
   "cell_type": "markdown",
   "id": "a80fae9d",
   "metadata": {},
   "source": [
    "# Exercise 4: Interventions\n",
    "\n",
    "Here we will practice altering the starting conditions and structure of our SIR model in order to represent what will happen when we add interventions. Each version of our model represents a different modeling scenario. By comparing different scenarios, we can imagine different ways that the outbreak will occur under different conditions."
   ]
  },
  {
   "cell_type": "code",
   "execution_count": 1,
   "id": "b8819dcb",
   "metadata": {},
   "outputs": [],
   "source": [
    "# Load libraries\n",
    "import numpy as np\n",
    "from scipy.integrate import odeint\n",
    "import pandas as pd\n",
    "import matplotlib.pyplot as plt\n",
    "\n",
    "# Use scipy.optimize.minimize to mnimizes sum of squared errors function\n",
    "from scipy.optimize import minimize"
   ]
  },
  {
   "cell_type": "code",
   "execution_count": 2,
   "id": "ef08ac0f",
   "metadata": {},
   "outputs": [
    {
     "data": {
      "text/html": [
       "<div>\n",
       "<style scoped>\n",
       "    .dataframe tbody tr th:only-of-type {\n",
       "        vertical-align: middle;\n",
       "    }\n",
       "\n",
       "    .dataframe tbody tr th {\n",
       "        vertical-align: top;\n",
       "    }\n",
       "\n",
       "    .dataframe thead th {\n",
       "        text-align: right;\n",
       "    }\n",
       "</style>\n",
       "<table border=\"1\" class=\"dataframe\">\n",
       "  <thead>\n",
       "    <tr style=\"text-align: right;\">\n",
       "      <th></th>\n",
       "      <th>Week_of_year</th>\n",
       "      <th>Deaths</th>\n",
       "      <th>time</th>\n",
       "    </tr>\n",
       "  </thead>\n",
       "  <tbody>\n",
       "    <tr>\n",
       "      <th>0</th>\n",
       "      <td>39</td>\n",
       "      <td>31</td>\n",
       "      <td>0</td>\n",
       "    </tr>\n",
       "    <tr>\n",
       "      <th>1</th>\n",
       "      <td>40</td>\n",
       "      <td>18</td>\n",
       "      <td>1</td>\n",
       "    </tr>\n",
       "    <tr>\n",
       "      <th>2</th>\n",
       "      <td>41</td>\n",
       "      <td>12</td>\n",
       "      <td>2</td>\n",
       "    </tr>\n",
       "    <tr>\n",
       "      <th>3</th>\n",
       "      <td>42</td>\n",
       "      <td>9</td>\n",
       "      <td>3</td>\n",
       "    </tr>\n",
       "    <tr>\n",
       "      <th>4</th>\n",
       "      <td>43</td>\n",
       "      <td>13</td>\n",
       "      <td>4</td>\n",
       "    </tr>\n",
       "  </tbody>\n",
       "</table>\n",
       "</div>"
      ],
      "text/plain": [
       "   Week_of_year  Deaths  time\n",
       "0            39      31     0\n",
       "1            40      18     1\n",
       "2            41      12     2\n",
       "3            42       9     3\n",
       "4            43      13     4"
      ]
     },
     "execution_count": 2,
     "metadata": {},
     "output_type": "execute_result"
    }
   ],
   "source": [
    "# Load plague Data\n",
    "plague_dat = pd.read_csv('plague_data.csv')\n",
    "plague_dat['time'] = plague_dat.index.values\n",
    "\n",
    "plague_dat.head()"
   ]
  },
  {
   "cell_type": "code",
   "execution_count": 3,
   "id": "cc4e6b93",
   "metadata": {},
   "outputs": [],
   "source": [
    "# Define a function for numerically integrating the SIR model\n",
    "def sir_model(state, time, parameters):\n",
    "    # Unpack Parameters\n",
    "    S, I, R = state\n",
    "    beta, gamma = parameters\n",
    "    \n",
    "    # Calculate total population size\n",
    "    N = S + I + R\n",
    "    \n",
    "    # Calculate force of infection\n",
    "    lambd = beta * I / N\n",
    "    \n",
    "    # Calculate derivatives\n",
    "    dS = -lambd * S\n",
    "    dI = lambd * S - gamma * I\n",
    "    dR = gamma * I\n",
    "    \n",
    "    # Return derivative\n",
    "    return [dS, dI, dR]"
   ]
  },
  {
   "cell_type": "code",
   "execution_count": 4,
   "id": "e158bf2c",
   "metadata": {},
   "outputs": [],
   "source": [
    "# Using the fit values from before, generate a \"baseline solution\" to the model\n",
    "\n",
    "# Using the optimized parameter values from before\n",
    "parameters = {'beta': 2.67546942, 'gamma': 2.20012301}\n",
    "\n",
    "# Define times - start at week 10\n",
    "times = np.arange(10, 76, 1)\n",
    "\n",
    "\n",
    "# Initial state values\n",
    "initial_state_values = [55000 - 1, 1, 0]\n",
    "\n",
    "sir_fit = odeint(sir_model, initial_state_values, times, args=(list(parameters.values()),))\n",
    "sir_fit = pd.DataFrame(sir_fit, columns=['S', 'I', 'R'])\n",
    "sir_fit['time'] = times"
   ]
  },
  {
   "cell_type": "markdown",
   "id": "341d5a5c",
   "metadata": {},
   "source": [
    "\n",
    "# Part 1: Vaccination with a perfect vaccine\n",
    "Suppose we are able to vaccinate a certain fraction of susceptibles in the population before the outbreak starts, such that they never become infected.\n",
    "\n",
    "We represent this by removing a fraction of the susceptible population at the start, and see whether the outbreak takes off. Let p_vaccinated = fraction of susceptibles who are vaccinated.\n",
    "\n",
    "Start by letting p_vaccinated = .1:"
   ]
  },
  {
   "cell_type": "code",
   "execution_count": 5,
   "id": "ab3076eb",
   "metadata": {},
   "outputs": [],
   "source": [
    "# Using the optimized parameter values from before\n",
    "parameters = {'beta': 2.67546942, 'gamma': 2.20012301}\n",
    "\n",
    "# Define times - start at week 10\n",
    "times = np.arange(10, 76, 1)\n",
    "\n",
    "# Adjust vaccinated proportion p.vaccinated here:\n",
    "p_vaccinated = 0.1\n",
    "\n",
    "# Initial state values\n",
    "initial_state_values = [55000 * (1 - p_vaccinated) - 1, 1, 55000 * p_vaccinated]\n",
    "\n",
    "# Solve the vaccinated model\n",
    "sir_vaccinated = odeint(sir_model, initial_state_values, times, args=(list(parameters.values()),))\n",
    "sir_vaccinated = pd.DataFrame(sir_vaccinated, columns=['S', 'I', 'R'])\n",
    "sir_vaccinated['time'] = times\n",
    "\n",
    "sir_vaccinated = pd.DataFrame(sir_vaccinated)"
   ]
  },
  {
   "cell_type": "code",
   "execution_count": 6,
   "id": "22d2d55a",
   "metadata": {},
   "outputs": [
    {
     "data": {
      "image/png": "[encoded data removed]",
      "text/plain": [
       "<Figure size 864x648 with 1 Axes>"
      ]
     },
     "metadata": {
      "needs_background": "light"
     },
     "output_type": "display_data"
    }
   ],
   "source": [
    "# Create a plot\n",
    "plt.figure(figsize = (12,9))\n",
    "plt.plot(sir_vaccinated['time'], sir_vaccinated['I'], color='blue', linewidth=4, label='Vaccinated')\n",
    "plt.plot(sir_fit['time'], sir_fit['I'], color='red', linewidth=4, label='Fit')\n",
    "plt.scatter(plague_dat['time'], plague_dat['Deaths'], color='black', s=30, label='Deaths')\n",
    "plt.xlabel(\"Time (Weeks)\",fontsize = 20)\n",
    "plt.ylabel(\"Deaths\",fontsize = 20)\n",
    "plt.xticks(fontsize = 20)\n",
    "plt.yticks(fontsize = 20)\n",
    "plt.legend(fontsize = 20)\n",
    "plt.grid(True)\n",
    "plt.show()"
   ]
  },
  {
   "cell_type": "markdown",
   "id": "f5198c11",
   "metadata": {},
   "source": [
    "## Question: Cases averted through vaccination\n",
    "How many people became infected overall?\n",
    "\n",
    "\n"
   ]
  },
  {
   "cell_type": "code",
   "execution_count": 7,
   "id": "bf2e7850",
   "metadata": {},
   "outputs": [
    {
     "data": {
      "text/plain": [
       "13786.865637202445"
      ]
     },
     "execution_count": 7,
     "metadata": {},
     "output_type": "execute_result"
    }
   ],
   "source": [
    "sir_vaccinated[\"R\"].values[-1]"
   ]
  },
  {
   "cell_type": "markdown",
   "id": "436ff7ec",
   "metadata": {},
   "source": [
    "How does that compare to the number of people who became infected before?"
   ]
  },
  {
   "cell_type": "code",
   "execution_count": 8,
   "id": "ad17dcbd",
   "metadata": {},
   "outputs": [
    {
     "data": {
      "text/plain": [
       "18314.822700050227"
      ]
     },
     "execution_count": 8,
     "metadata": {},
     "output_type": "execute_result"
    }
   ],
   "source": [
    "sir_fit[\"R\"].values[-1]"
   ]
  },
  {
   "cell_type": "markdown",
   "id": "7861eda3",
   "metadata": {},
   "source": [
    "# Part 2: Treatment of infected individuals\n",
    "Suppose that treatment decreases the amount of infectious time by 25%. \n",
    "The way we represent this is by dividing the \"Infected\" compartment into two, where one receives the treatment and the other does not. In the treated compartment, gamma -> gamma/(.75) (recovery rate increases by 1/.75).\n",
    "\n",
    "How many cases need to be treated in order to prevent an outbreak?\n",
    "\n",
    "Start by defining a new model with the treated compartment. This time there are four state variables, where we've added I_t to represent the number of infected people on treatment:"
   ]
  },
  {
   "cell_type": "code",
   "execution_count": 9,
   "id": "ba0184d6",
   "metadata": {},
   "outputs": [],
   "source": [
    "def sir_model_treatment(state, time, parameters):\n",
    "    S, I, I_t, R = state\n",
    "    beta, gamma, p_treatment = parameters\n",
    "\n",
    "    N = S + I_t + I + R\n",
    "\n",
    "    lambd = beta * (I + I_t) / N\n",
    "\n",
    "    dS = -lambd * S\n",
    "    dI_t = lambd * S * p_treatment - gamma / 0.75 * I_t\n",
    "    dI = lambd * S * (1 - p_treatment) - gamma * I\n",
    "    dR = gamma * I + 2 * gamma * I_t\n",
    "\n",
    "    return [dS, dI, dI_t, dR]"
   ]
  },
  {
   "cell_type": "markdown",
   "id": "dda466d8",
   "metadata": {},
   "source": [
    "p_treated is the probability that an individual receives treatment. Start by setting that equal to 0.25:"
   ]
  },
  {
   "cell_type": "code",
   "execution_count": 10,
   "id": "7e7a1cc1",
   "metadata": {},
   "outputs": [],
   "source": [
    "parameters = [2.559449, 2.109450, 0.25]\n",
    "\n",
    "times = np.arange(10, 76, 1)\n",
    "\n",
    "initial_state_values = [54999, 1, 0, 0]\n",
    "\n",
    "sir_treated = odeint(sir_model_treatment, initial_state_values, times, args=(parameters,))\n",
    "sir_treated = pd.DataFrame(sir_treated, columns=['S', 'I', 'I_t', 'R'])\n",
    "sir_treated['time'] = times"
   ]
  },
  {
   "cell_type": "code",
   "execution_count": 11,
   "id": "f1cf536d",
   "metadata": {},
   "outputs": [
    {
     "data": {
      "image/png": "[encoded data removed]",
      "text/plain": [
       "<Figure size 864x648 with 1 Axes>"
      ]
     },
     "metadata": {
      "needs_background": "light"
     },
     "output_type": "display_data"
    }
   ],
   "source": [
    "# Create a plot\n",
    "plt.figure(figsize = (12,9))\n",
    "plt.plot(sir_treated['time'], sir_treated['I'] + sir_treated['I_t'], color='blue', linewidth=4, label='Treated')\n",
    "plt.plot(sir_fit['time'], sir_fit['I'], color='red', linewidth=4, label='Fit')\n",
    "plt.scatter(plague_dat['time'], plague_dat['Deaths'], color='black', s=30, label='Deaths')\n",
    "plt.xlabel(\"Time (Weeks)\",fontsize = 20)\n",
    "plt.ylabel(\"Deaths\",fontsize = 20)\n",
    "plt.xticks(fontsize = 20)\n",
    "plt.yticks(fontsize = 20)\n",
    "plt.legend(fontsize = 20)\n",
    "plt.grid(True)\n",
    "plt.show()\n"
   ]
  },
  {
   "cell_type": "code",
   "execution_count": 12,
   "id": "5702c514",
   "metadata": {},
   "outputs": [
    {
     "name": "stdout",
     "output_type": "stream",
     "text": [
      "Object `treatment` not found.\n"
     ]
    }
   ],
   "source": [
    "## Question: Cases averted through treatment\n",
    "How many people became infected overall when we add treatment?"
   ]
  },
  {
   "cell_type": "code",
   "execution_count": 13,
   "id": "42f55301",
   "metadata": {},
   "outputs": [
    {
     "data": {
      "text/plain": [
       "13017.640176705885"
      ]
     },
     "execution_count": 13,
     "metadata": {},
     "output_type": "execute_result"
    }
   ],
   "source": [
    "sir_treated[\"R\"].values[-1]"
   ]
  },
  {
   "cell_type": "markdown",
   "id": "02f116fd",
   "metadata": {},
   "source": [
    "How does that compare to the number of people who became infected in the original scenario?"
   ]
  },
  {
   "cell_type": "code",
   "execution_count": 14,
   "id": "1aba3d6e",
   "metadata": {},
   "outputs": [
    {
     "data": {
      "text/plain": [
       "18314.822700050227"
      ]
     },
     "execution_count": 14,
     "metadata": {},
     "output_type": "execute_result"
    }
   ],
   "source": [
    "sir_fit[\"R\"].values[-1]"
   ]
  },
  {
   "cell_type": "markdown",
   "id": "fec7f78c",
   "metadata": {},
   "source": [
    "# Optional Exercise 1: stopping an outbreak with vaccinations\n",
    "Try adjusting p.vaccinated: how large does it need to be in order to stop an outbreak from occurring?\n"
   ]
  },
  {
   "cell_type": "markdown",
   "id": "2318c79c",
   "metadata": {},
   "source": [
    "## Optional exercise\n",
    "\n",
    "In this new vaccination scenario, we have altered the structure of our model.\n",
    "\n",
    "Find an expression for R_0 as a function of beta, gamma, and p.vaccinated. Solve for p.vaccinated such that R_0 = 1. Compare the value of p.vaccinated to the value that you found which was high enough to stop an outbreak from occurring.\n"
   ]
  },
  {
   "cell_type": "markdown",
   "id": "3992ade2",
   "metadata": {},
   "source": [
    "\n",
    "## Optional exercise\n",
    "\n",
    "Suppose instead of providing perfect protection against plague, the vaccine only protected 50% of people who received it. What structural changes would we need to make to our model in order to represent this? How do your answers to each of the above questions change in this alternate scenario?"
   ]
  },
  {
   "cell_type": "markdown",
   "id": "5244de9e",
   "metadata": {},
   "source": [
    "# Optional Exercise 2: stopping an outbreak with treatment\n",
    "Try adjusting the parameters in the treatment scenario - what coverage is needed to stop an epidemic altogether?"
   ]
  },
  {
   "cell_type": "markdown",
   "id": "a36098f4",
   "metadata": {},
   "source": [
    "\n",
    "## Optional exercise\n",
    "\n",
    "In this new treatment scenario, we have altered the structure of our model.\n",
    "\n",
    "Find an expression for R_0 as a function of beta, gamma, p_treatment, and the factor which changes the rate at which infected people recover with treatment. Solve for p.treatment such that R_0 = 1. Compare the value of p.treatment to the value that you found which was high enough to stop an outbreak from occurring.\n"
   ]
  },
  {
   "cell_type": "markdown",
   "id": "d4d6416c",
   "metadata": {},
   "source": [
    "\n",
    "## Optional exercise\n",
    "\n",
    "Suppose that treatment does not shorten the duration of the infectious period, and instead it reduces the per-contact rate of transmission (beta) by 50%. What structural changes would we need to make to our model in order to represent this? How do your answers to each of the above questions change in this alternate scenario?\n"
   ]
  }
 ],
 "metadata": {
  "kernelspec": {
   "display_name": "Python 3 (ipykernel)",
   "language": "python",
   "name": "python3"
  },
  "language_info": {
   "codemirror_mode": {
    "name": "ipython",
    "version": 3
   },
   "file_extension": ".py",
   "mimetype": "text/x-python",
   "name": "python",
   "nbconvert_exporter": "python",
   "pygments_lexer": "ipython3",
   "version": "3.9.7"
  },
  "toc": {
   "base_numbering": 1,
   "nav_menu": {},
   "number_sections": false,
   "sideBar": true,
   "skip_h1_title": false,
   "title_cell": "Table of Contents",
   "title_sidebar": "Contents",
   "toc_cell": false,
   "toc_position": {},
   "toc_section_display": true,
   "toc_window_display": true
  }
 },
 "nbformat": 4,
 "nbformat_minor": 5
}
