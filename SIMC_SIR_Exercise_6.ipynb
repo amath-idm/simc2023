{
 "cells": [
  {
   "cell_type": "markdown",
   "source": [
    "# Exercise 6: Propagating parameter uncertainty\n",
    "\n",
    "We saw in Exercise 5 that there can be more than 1 parameter set that provides a good match the the data. Rather than only selecting the best-fitting set, it's possible to select a few different parameter sets that provide relatively close match to the data and propagate these forward in time. This is one possible way of captuing parameter uncertainty."
   ],
   "metadata": {
    "collapsed": false
   }
  },
  {
   "cell_type": "code",
   "execution_count": null,
   "outputs": [],
   "source": [
    "# Load packages\n",
    "import pandas as pd\n",
    "import numpy as np\n",
    "import matplotlib.pyplot as pl\n",
    "import sciris as sc\n",
    "\n",
    "# Read in the data\n",
    "flu = pd.read_csv(\"flu_cases.csv\")\n",
    "\n",
    "# How many days of observation do we have when we need to make a decision?\n",
    "n_obs = 5\n",
    "\n",
    "# What do the data look like at this point?\n",
    "pl.scatter(flu['day'][:n_obs], flu['cases'][:n_obs], label='Data')\n",
    "pl.title('Number of infected students')\n",
    "pl.xlabel('Day')\n",
    "pl.xticks(np.arange(n_obs))\n",
    "pl.show()\n",
    "\n",
    "# Define the parameter ranges for our model\n",
    "betas = np.linspace(0.1, 0.9, 9)\n",
    "gammas = np.array([1/48, 1/24, 1/12, 1/6, 1/3, 1/1.5])\n",
    "\n",
    "# Other inputs\n",
    "npts = 100  # How many data points in total\n",
    "I0 = 1  # Number of initially infected people\n",
    "N = 1000  # Total population size (assuming a closed population)\n",
    "dt = 1  # Timestep\n",
    "\n",
    "# Make arrays where we will store the estimates\n",
    "x = np.arange(npts)\n",
    "S = np.zeros(npts)\n",
    "I = np.zeros(npts)\n",
    "R = np.zeros(npts)\n",
    "\n",
    "# We will store the number of infected people and mismatch with the data for each parameter combination\n",
    "I_full = np.empty((npts, len(betas)*len(gammas)))\n",
    "mismatch = np.empty(len(betas)*len(gammas))\n",
    "\n",
    "# Initial conditions\n",
    "S[0] = N - I0\n",
    "I[0] = I0\n",
    "\n",
    "# Simulate the model over time\n",
    "idx = 0\n",
    "for beta in betas:\n",
    "    for gamma in gammas:\n",
    "\n",
    "        for t in x[:-1]:\n",
    "            infections = beta * S[t] * I[t]/N * dt\n",
    "            recoveries = gamma * I[t] * dt\n",
    "            S[t + 1] = S[t] - infections\n",
    "            I[t + 1] = I[t] + infections - recoveries\n",
    "            R[t + 1] = R[t] + recoveries\n",
    "\n",
    "        I_full[:, idx] = I\n",
    "        mismatch[idx] = sum((flu['cases'][:n_obs]-I[:n_obs])**2)\n",
    "\n",
    "        idx += 1\n",
    "\n",
    "# Make some things needed for plotting\n",
    "time = x * dt\n",
    "colors = sc.vectocolor(mismatch)  # Use to color the lines according to mismatch\n",
    "\n",
    "# Plot the model estimates of the number of infections alongside the data\n",
    "pl.scatter(time[:n_obs], flu['cases'][:n_obs], label='Data')\n",
    "for i in range(len(betas)*len(gammas)):\n",
    "    pl.plot(time[:n_obs], I_full[:n_obs, i], c=colors[i], alpha=0.5, lw=1)\n",
    "pl.title('Number of infected students')\n",
    "pl.xlabel('Day')\n",
    "pl.xticks(np.arange(n_obs))\n",
    "pl.show()\n",
    "\n",
    "# Project the models with the lowest mismatch forward in time\n",
    "n_for = 10  # number of points to forecast\n",
    "mmt = 10  # short for mismatch threshold - we will forecast anything where the mismatch is lower than this\n",
    "pl.scatter(time[:n_for], flu['cases'][:n_for], label='Data')\n",
    "for i in range(len(betas)*len(gammas)):\n",
    "    if mismatch[i] < mmt:\n",
    "        pl.plot(time[:n_for], I_full[:n_for, i], c='g', lw=1)\n",
    "    else:\n",
    "        pl.plot(time[:n_obs], I_full[:n_obs, i], c='r', alpha=0.5, lw=1)\n",
    "\n",
    "pl.title('Number of infected students')\n",
    "pl.xlabel('Day')\n",
    "pl.xticks(np.arange(n_for))\n",
    "pl.show()"
   ],
   "metadata": {
    "collapsed": false
   }
  },
  {
   "cell_type": "markdown",
   "source": [
    "We see that our central projection is still too high, but the data points lie within the bounds of what was considered consistent with the data. Note that there is a large range, with 10-120 cases by day 9.\n"
   ],
   "metadata": {
    "collapsed": false
   }
  }
 ],
 "metadata": {
  "kernelspec": {
   "display_name": "Python 3",
   "language": "python",
   "name": "python3"
  },
  "language_info": {
   "codemirror_mode": {
    "name": "ipython",
    "version": 2
   },
   "file_extension": ".py",
   "mimetype": "text/x-python",
   "name": "python",
   "nbconvert_exporter": "python",
   "pygments_lexer": "ipython2",
   "version": "2.7.6"
  }
 },
 "nbformat": 4,
 "nbformat_minor": 0
}
